{
 "cells": [
  {
   "cell_type": "markdown",
   "metadata": {},
   "source": [
    "# Prueba 3. Detección correcta de escala"
   ]
  },
  {
   "cell_type": "markdown",
   "metadata": {},
   "source": [
    "## Inicialización FPGA"
   ]
  },
  {
   "cell_type": "code",
   "execution_count": 2,
   "metadata": {},
   "outputs": [
    {
     "data": {
      "application/javascript": [
       "\n",
       "require(['notebook/js/codecell'], function(codecell) {\n",
       "  codecell.CodeCell.options_default.highlight_modes[\n",
       "      'magic_text/x-csrc'] = {'reg':[/^%%microblaze/]};\n",
       "  Jupyter.notebook.events.one('kernel_ready.Kernel', function(){\n",
       "      Jupyter.notebook.get_cells().map(function(cell){\n",
       "          if (cell.cell_type == 'code'){ cell.auto_highlight(); } }) ;\n",
       "  });\n",
       "});\n"
      ]
     },
     "metadata": {},
     "output_type": "display_data"
    }
   ],
   "source": [
    "# Librería PYNQ\n",
    "from pynq import Overlay, allocate\n",
    "# Estructuras de datos y gráficos\n",
    "import numpy as np\n",
    "import matplotlib.pyplot as plt\n",
    "# Librería MIDI\n",
    "from mido import Message, MidiFile, MidiTrack, second2tick\n",
    "# Librería lectura y creación de archivos de audio\n",
    "from scipy.io import wavfile"
   ]
  },
  {
   "cell_type": "code",
   "execution_count": 3,
   "metadata": {},
   "outputs": [],
   "source": [
    "# Controladores bloques de procesamiento\n",
    "%run FFT_DMA_Driver.ipynb\n",
    "%run Audio_DMA_Driver.ipynb\n",
    "# Cargar Overlay FFT \n",
    "ol = Overlay('/home/xilinx/pynq/overlays/fft/disenofinal.bit')\n",
    "# Inicializar DMAs, para enviar y recibir datos y configuración\n",
    "fft = ol.fft_block\n",
    "audio = ol.audio_block"
   ]
  },
  {
   "cell_type": "markdown",
   "metadata": {},
   "source": [
    "## Carga de archivo de audio"
   ]
  },
  {
   "cell_type": "code",
   "execution_count": 4,
   "metadata": {},
   "outputs": [
    {
     "name": "stdout",
     "output_type": "stream",
     "text": [
      "Sample Rate: 44100\n"
     ]
    },
    {
     "name": "stderr",
     "output_type": "stream",
     "text": [
      "/usr/lib/python3/dist-packages/scipy/io/wavfile.py:273: WavFileWarning: Chunk (non-data) not understood, skipping it.\n",
      "  WavFileWarning)\n"
     ]
    }
   ],
   "source": [
    "# Cargar archivo de audio\n",
    "SAMPLE_RATE, audio_data = wavfile.read(\"archivo1.wav\")\n",
    "print(\"Sample Rate: \" + str(SAMPLE_RATE))\n",
    "\n",
    "# Convertir a mono si es necesario\n",
    "if len(audio_data.shape) > 1:\n",
    "    audio_data = np.mean(audio_data, axis=1)\n",
    "    \n",
    "# Asegurarse de que el audio esté en formato float32\n",
    "audio_data = audio_data.astype(np.float32)\n",
    "\n",
    "# Normalizar el audio para la visualización\n",
    "audio_data = audio_data / np.max(np.abs(audio_data))"
   ]
  },
  {
   "cell_type": "code",
   "execution_count": 5,
   "metadata": {},
   "outputs": [
    {
     "data": {
      "image/png": "[encoded data removed]",
      "text/plain": [
       "<matplotlib.figure.Figure at 0xb4349af0>"
      ]
     },
     "metadata": {},
     "output_type": "display_data"
    }
   ],
   "source": [
    "# Gráfica forma de onda\n",
    "plt.figure(figsize=(12, 6))\n",
    "plt.subplot(2, 1, 1)\n",
    "plt.plot(audio_data)\n",
    "plt.title(\"Forma de Onda del Audio Importado\")\n",
    "plt.xlabel(\"Muestras\")\n",
    "plt.ylabel(\"Amplitud\")\n",
    "plt.grid(True)\n",
    "plt.show()"
   ]
  },
  {
   "cell_type": "markdown",
   "metadata": {},
   "source": [
    "## Definición de funciones a utilizar"
   ]
  },
  {
   "cell_type": "markdown",
   "metadata": {},
   "source": [
    "## Configuración tamaño de bloque FFT"
   ]
  },
  {
   "cell_type": "code",
   "execution_count": 6,
   "metadata": {},
   "outputs": [],
   "source": [
    "# Función para aplicar FFT\n",
    "def apply_fft(input_data):\n",
    "    \"\"\"\n",
    "    Aplica la Transformada Rápida de Fourier (FFT) a los datos de entrada.\n",
    "\n",
    "    Parámetros:\n",
    "    - input_data (numpy array): Datos de entrada en formato numpy array que se van a transformar.\n",
    "\n",
    "    Devuelve:\n",
    "    - Resultado de la aplicación de la FFT a los datos de entrada.\n",
    "    \"\"\"\n",
    "    np.copyto(input_buffer_fft, input_data.astype(np.csingle))\n",
    "    return fft.stream_fft(input_buffer_fft)\n",
    "\n",
    "# Obtención de la frecuencia de mayor amplitud en cada bloque de la FFT\n",
    "def get_max_amplitude_frequency(fft_result, sample_rate, max_frequency=5000):\n",
    "    \"\"\"\n",
    "    Obtiene la frecuencia de mayor amplitud en un bloque de resultados de FFT.\n",
    "\n",
    "    Parámetros:\n",
    "    - fft_result (numpy array): Resultados de la FFT.\n",
    "    - sample_rate (int): Tasa de muestreo de los datos originales.\n",
    "    - max_frequency (float, opcional): Frecuencia máxima a considerar, por defecto es 5000 Hz.\n",
    "\n",
    "    Devuelve:\n",
    "    - frequency (float): Frecuencia con la mayor amplitud.\n",
    "    - amplitude (float): Valor de la amplitud correspondiente a la frecuencia máxima.\n",
    "    \"\"\"\n",
    "    # Calcular la magnitud de la FFT\n",
    "    magnitudes = np.abs(fft_result)\n",
    "    \n",
    "    # Filtrar las frecuencias por debajo del umbral\n",
    "    valid_indices = (frequencies_fft <= max_frequency)\n",
    "    valid_magnitudes = magnitudes[valid_indices]\n",
    "    \n",
    "    # Si no hay frecuencias válidas, devolver None\n",
    "    if len(valid_magnitudes) == 0:\n",
    "        return 0, 0\n",
    "    \n",
    "    valid_frequencies = frequencies_fft[valid_indices]\n",
    "    \n",
    "    # Encontrar el índice de la magnitud máxima dentro de las frecuencias válidas\n",
    "    max_index = np.argmax(valid_magnitudes)\n",
    "    \n",
    "    if abs(valid_frequencies[max_index]) > max_frequency:\n",
    "        return 0, 0\n",
    "    \n",
    "    return abs(valid_frequencies[max_index]), valid_magnitudes[max_index]\n",
    "\n",
    "# Función para convertir frecuencia a número de nota MIDI\n",
    "def frequency_to_midi(frequency):\n",
    "    \"\"\"\n",
    "    Convierte una frecuencia al número de nota MIDI correspondiente.\n",
    "\n",
    "    Parámetros:\n",
    "    - frequency (float): Frecuencia que se desea convertir.\n",
    "\n",
    "    Devuelve:\n",
    "    - midi_note (int): Número de nota MIDI correspondiente, o None si no se encuentra una nota correspondiente.\n",
    "    \"\"\"\n",
    "    if frequency <= 0:\n",
    "        return None\n",
    "\n",
    "    if frequency <= 0:\n",
    "        raise ValueError(\"Frequency must be positive.\")\n",
    "    \n",
    "    # Buscar la nota MIDI correspondiente en el diccionario\n",
    "    for midi_note, (low, mid, high) in midi_notes.items():\n",
    "        if low <= frequency <= high:\n",
    "            return midi_note\n",
    "    \n",
    "    # Si no se encuentra una nota correspondiente, devolver None\n",
    "    return None\n",
    "\n",
    "# Implementación https://github.com/NFJones/audio-to-midi/blob/master/audio_to_midi/notes.py\n",
    "def generate_midi_notes():\n",
    "    \"\"\"\n",
    "    Genera un diccionario de notas MIDI con sus correspondientes rangos de frecuencia.\n",
    "\n",
    "    Parámetros:\n",
    "    - Ninguno.\n",
    "\n",
    "    Devuelve:\n",
    "    - notes (dict): Diccionario donde las claves son los números de nota MIDI y los valores son listas con tres elementos \n",
    "    [low, mid, high] que representan el rango de frecuencias para cada nota MIDI.\n",
    "    \"\"\"\n",
    "\n",
    "    # C0\n",
    "    base = [7.946362749, 8.1757989155, 8.4188780665]\n",
    "    \n",
    "    # 12th root of 2\n",
    "    multiplier = np.float_power(2.0, 1.0 / 12)\n",
    "\n",
    "    notes = {0: base}\n",
    "    for i in range(1, 128):\n",
    "        mid = multiplier * notes[i - 1][1]\n",
    "        low = (mid + notes[i - 1][1]) / 2.0\n",
    "        high = (mid + (multiplier * mid)) / 2.0\n",
    "        notes.update({i: [low, mid, high]})\n",
    "\n",
    "    return notes"
   ]
  },
  {
   "cell_type": "code",
   "execution_count": 7,
   "metadata": {},
   "outputs": [],
   "source": [
    "# Parámetros FFT y visualización\n",
    "BLOCK_SIZE = 4096 # Cantidad de samples por cada bloque de audio\n",
    "block_duration = BLOCK_SIZE / SAMPLE_RATE # Duración de cada bloque en segundos\n",
    "frequencies_fft = np.fft.fftfreq(BLOCK_SIZE, d=1/SAMPLE_RATE) # Obtener las frecuencias correspondientes a cada índice\n",
    "\n",
    "# Configurar FFT\n",
    "fft.configure('1', BLOCK_SIZE)\n",
    "\n",
    "# Buffer de entrada para DMA\n",
    "input_buffer_fft = allocate(shape=(BLOCK_SIZE,), dtype=np.csingle)\n",
    "\n",
    "# Generar el diccionario de frecuencias a notas MIDI\n",
    "midi_notes = generate_midi_notes()"
   ]
  },
  {
   "cell_type": "markdown",
   "metadata": {},
   "source": [
    "## Cálculo FFT archivo de audio con FPGA"
   ]
  },
  {
   "cell_type": "code",
   "execution_count": 8,
   "metadata": {},
   "outputs": [
    {
     "name": "stdout",
     "output_type": "stream",
     "text": [
      "CPU times: user 288 ms, sys: 0 ns, total: 288 ms\n",
      "Wall time: 296 ms\n"
     ]
    }
   ],
   "source": [
    "%%time\n",
    "\n",
    "fft_results = []\n",
    "max_frequencies = []\n",
    "max_magnitudes = []\n",
    "\n",
    "# Dividir el audio en bloques y aplicar FFT\n",
    "for start in range(0, len(audio_data), BLOCK_SIZE):\n",
    "    block = audio_data[start:start + BLOCK_SIZE]\n",
    "    if len(block) < BLOCK_SIZE:\n",
    "        block = np.pad(block, (0, BLOCK_SIZE - len(block)), 'constant')\n",
    "    res_fft = apply_fft(block)\n",
    "    \n",
    "    fft_results.append(res_fft)\n",
    "    \n",
    "    # Obtener la frecuencia de mayor amplitud y su magnitud\n",
    "    frequency, magnitude = get_max_amplitude_frequency(res_fft, SAMPLE_RATE, 5000)\n",
    "    max_frequencies.append(frequency)\n",
    "    max_magnitudes.append(magnitude)"
   ]
  },
  {
   "cell_type": "code",
   "execution_count": 9,
   "metadata": {
    "scrolled": true
   },
   "outputs": [
    {
     "data": {
      "image/png": "[encoded data removed]",
      "text/plain": [
       "<matplotlib.figure.Figure at 0xad9fa750>"
      ]
     },
     "metadata": {},
     "output_type": "display_data"
    }
   ],
   "source": [
    "# Calcular el tiempo en segundos para cada bloque\n",
    "block_times = [i * (block_duration) for i in range(len(max_frequencies))]\n",
    "\n",
    "# Gráfico visualización de frecuencias en tiempo\n",
    "plt.figure(figsize=(12, 6))\n",
    "plt.plot(block_times, max_frequencies, marker='o', linestyle='-', color='b')\n",
    "plt.xlabel('Tiempo (segundos)')\n",
    "plt.ylabel('Frecuencia (Hz)')\n",
    "plt.title('Frecuencia con Maxima Amplitud en el Tiempo')\n",
    "plt.grid(True)\n",
    "\n",
    "# Mostrar el gráfico\n",
    "plt.show()"
   ]
  },
  {
   "cell_type": "markdown",
   "metadata": {},
   "source": [
    "# Identificar escala musical"
   ]
  },
  {
   "cell_type": "markdown",
   "metadata": {},
   "source": [
    "## Creación archivo MIDI a partir de frecuencias FFT"
   ]
  },
  {
   "cell_type": "code",
   "execution_count": 11,
   "metadata": {
    "scrolled": true
   },
   "outputs": [
    {
     "name": "stdout",
     "output_type": "stream",
     "text": [
      "Archivo MIDI creado y guardado como 'output_midi.mid'.\n"
     ]
    }
   ],
   "source": [
    "# Crear un nuevo archivo MIDI\n",
    "midi = MidiFile()\n",
    "track = MidiTrack()\n",
    "midi.tracks.append(track)\n",
    "midi_notes_scale = []\n",
    "\n",
    "# Ajustar el tempo (120 BPM por defecto)\n",
    "tempo = 500000  # Microsegundos por beat para 120 BPM\n",
    "\n",
    "# Añadir las notas al track\n",
    "last_note = None\n",
    "last_tick = 0\n",
    "\n",
    "for i, (time, frequency) in enumerate(zip(block_times, max_frequencies)):\n",
    "    # Convertir la frecuencia a número de nota MIDI\n",
    "    midi_note = frequency_to_midi(frequency)\n",
    "    if midi_note != None:\n",
    "        midi_notes_scale.append(midi_note)\n",
    "    \n",
    "    if midi_note is None:\n",
    "        # Apagar la nota anterior si hay una\n",
    "        if last_note is not None:\n",
    "            track.append(Message('note_off', note=last_note, velocity=64, time=delta_time))\n",
    "            last_note = None\n",
    "            last_tick = current_tick\n",
    "    else:\n",
    "        # Asegurarse de que la nota esté en el rango válido (21-108 para piano)\n",
    "        if 21 <= midi_note <= 200:\n",
    "            # Calcular el tiempo en ticks desde el inicio\n",
    "            current_tick = int(second2tick(time, midi.ticks_per_beat, tempo))\n",
    "            delta_time = current_tick - last_tick\n",
    "\n",
    "            # Si hay una nota anterior y es diferente a la actual, apagarla\n",
    "            if last_note is not None and last_note != midi_note:\n",
    "                track.append(Message('note_off', note=last_note, velocity=64, time=delta_time))\n",
    "                delta_time = 0  # Reset delta time for note_on\n",
    "\n",
    "            # Encender la nueva nota\n",
    "            if last_note != midi_note:\n",
    "                track.append(Message('note_on', note=midi_note, velocity=64, time=delta_time))\n",
    "                last_note = midi_note\n",
    "                last_tick = current_tick\n",
    "\n",
    "# Asegurar que la última nota se apague\n",
    "if last_note is not None:\n",
    "    end_tick = int(second2tick(block_times[-1] + block_duration, midi.ticks_per_beat, tempo))\n",
    "    delta_time = end_tick - last_tick\n",
    "    track.append(Message('note_off', note=last_note, velocity=64, time=delta_time))\n",
    "\n",
    "# Guardar el archivo MIDI\n",
    "midi.save('output_midi.mid')\n",
    "print(\"Archivo MIDI creado y guardado como 'output_midi.mid'.\")"
   ]
  },
  {
   "cell_type": "markdown",
   "metadata": {},
   "source": [
    "## Funciones identificación"
   ]
  },
  {
   "cell_type": "code",
   "execution_count": 12,
   "metadata": {},
   "outputs": [
    {
     "name": "stdout",
     "output_type": "stream",
     "text": [
      "Notas detectadas: ['C', 'D', 'E', 'F', 'G', 'A', 'B']\n",
      "La escala identificada es: C Mayor\n",
      "El patrón de la escala es: ['C', 'D', 'E', 'F', 'G', 'A', 'B']\n",
      "---\n",
      "La escala identificada es: A Menor Natural\n",
      "El patrón de la escala es: ['A', 'B', 'C', 'D', 'E', 'F', 'G']\n",
      "---\n"
     ]
    }
   ],
   "source": [
    "def normalize_notes(midi_notes):\n",
    "    \"\"\"\n",
    "    Traspone las notas MIDI a una sola octava.\n",
    "\n",
    "    Parámetros:\n",
    "    - midi_notes (dict): Diccionario MIDI de las notas calculadas.\n",
    "\n",
    "    Devuelve:\n",
    "    - notes (dict): Diccionario de notas MIDI traspuestas a una escala.\n",
    "    \"\"\"    \n",
    "    return [note % 12 for note in midi_notes]\n",
    "\n",
    "def identify_scales(midi_notes):\n",
    "    \"\"\"\n",
    "    Identifica todas las escalas que coincidan con un conjunto de notas musicales en MIDI.\n",
    "\n",
    "    Parámetros:\n",
    "    - midi_notes (list): Lista de notas MIDI calculadas.\n",
    "\n",
    "    Devuelve:\n",
    "    - matched_scales (list): Lista de escalas que coinciden completamente con las notas MIDI.\n",
    "    \"\"\"\n",
    "    # Escalas comunes\n",
    "    scales = {\n",
    "        'Mayor': [0, 2, 4, 5, 7, 9, 11],\n",
    "        'Menor Natural': [0, 2, 3, 5, 7, 8, 10],\n",
    "        'Menor Harmónica': [0, 2, 3, 5, 7, 8, 11],\n",
    "        'Menor Melódica': [0, 2, 3, 5, 7, 9, 11],\n",
    "        'Mayor Pentatónica': [0, 2, 4, 7, 9],\n",
    "        'Menor Pentatónica': [0, 3, 5, 7, 10]\n",
    "    }\n",
    "    \n",
    "    # Nombre de notas para identificar escala\n",
    "    note_names = ['C', 'C#', 'D', 'D#', 'E', 'F', 'F#', 'G', 'G#', 'A', 'A#', 'B']\n",
    "\n",
    "    # Normalizar notas\n",
    "    normalized_notes = set(normalize_notes(midi_notes))\n",
    "    normalized_notes_names = [note_names[note] for note in normalized_notes]\n",
    "    \n",
    "    print(f'Notas detectadas: {normalized_notes_names}')\n",
    "\n",
    "    # Comparar notas normalizadas a cada escala\n",
    "    matched_scales = []\n",
    "    best_match_count = 0\n",
    "    least_missing_count = float('inf')\n",
    "\n",
    "    # Comprobar las escalas en todas las posibles notas\n",
    "    for scale_name, scale_pattern in scales.items():\n",
    "        for transposition in range(12):\n",
    "            transposed_pattern = [(note + transposition) % 12 for note in scale_pattern]\n",
    "            if normalized_notes == set(transposed_pattern):\n",
    "                matched_scales.append((f'{note_names[transposition]} {scale_name}', [note_names[trans_note] for trans_note in transposed_pattern]))\n",
    "                \n",
    "    if len(matched_scales) <= 0:\n",
    "        print(\"No se han encontrado matches.\")\n",
    "                    \n",
    "    return matched_scales\n",
    "\n",
    "matched_scales = identify_scales(midi_notes_scale)\n",
    "\n",
    "for scale_info in matched_scales:\n",
    "    scale_name, pattern = scale_info\n",
    "    print(f'La escala identificada es: {scale_name}')\n",
    "    print(f'El patrón de la escala es: {pattern}')\n",
    "    print('---')"
   ]
  },
  {
   "cell_type": "markdown",
   "metadata": {},
   "source": [
    "## Set pruebas identificación de escala"
   ]
  },
  {
   "cell_type": "code",
   "execution_count": 13,
   "metadata": {},
   "outputs": [
    {
     "name": "stdout",
     "output_type": "stream",
     "text": [
      "========================================================\n",
      "Notas detectadas: ['C', 'D', 'E', 'F', 'G', 'A', 'B']\n",
      "Prueba Do Mayor pasada.\n",
      "========================================================\n",
      "Notas detectadas: ['C', 'D', 'E', 'F', 'G', 'A', 'B']\n",
      "Prueba La Menor Natural pasada.\n",
      "========================================================\n",
      "Notas detectadas: ['D', 'E', 'G', 'A', 'B']\n",
      "Prueba Sol Mayor Pentatónica pasada.\n",
      "========================================================\n",
      "Notas detectadas: ['C', 'C#', 'D', 'D#', 'E', 'F', 'G', 'G#', 'A#']\n",
      "No se han encontrado matches.\n",
      "Prueba Notas sin coincidencia pasada.\n"
     ]
    }
   ],
   "source": [
    "casos_de_prueba = [\n",
    "    {\n",
    "        \"nombre\": \"Do Mayor\",\n",
    "        \"entrada\": [60, 62, 64, 65, 67, 69, 71],  # C, D, E, F, G, A, B\n",
    "        \"escalas_esperadas\": [\"C Mayor\"]\n",
    "    },\n",
    "    {\n",
    "        \"nombre\": \"La Menor Natural\",\n",
    "        \"entrada\": [57, 59, 60, 62, 64, 65, 67],  # A, B, C, D, E, F, G\n",
    "        \"escalas_esperadas\": [\"A Menor Natural\"]\n",
    "    },\n",
    "    {\n",
    "        \"nombre\": \"Sol Mayor Pentatónica\",\n",
    "        \"entrada\": [55, 57, 59, 62, 64],  # G, A, B, D, E\n",
    "        \"escalas_esperadas\": [\"G Mayor Pentatónica\"]\n",
    "    },\n",
    "    {\n",
    "        \"nombre\": \"Notas sin coincidencia\",\n",
    "        \"entrada\": [60, 61, 64, 62, 63, 65, 67, 68, 70],  # C, C#, E, D, D#, F, G, G#, A#\n",
    "        \"escalas_esperadas\": []  # No debería coincidir con ninguna escala\n",
    "    }\n",
    "]\n",
    "\n",
    "for caso in casos_de_prueba:\n",
    "    print(\"========================================================\")\n",
    "    escalas_identificadas = identify_scales(caso[\"entrada\"])\n",
    "    escalas_identificadas_nombres = [scale_name for scale_name, pattern in escalas_identificadas]\n",
    "\n",
    "    if all(escala in escalas_identificadas_nombres for escala in caso[\"escalas_esperadas\"]):\n",
    "        print(f'Prueba {caso[\"nombre\"]} pasada.')\n",
    "    else:\n",
    "        print(f'Prueba {caso[\"nombre\"]} fallida: se esperaban {caso[\"escalas_esperadas\"]}, pero se obtuvieron {escalas_identificadas}')\n"
   ]
  },
  {
   "cell_type": "code",
   "execution_count": null,
   "metadata": {},
   "outputs": [],
   "source": []
  }
 ],
 "metadata": {
  "kernelspec": {
   "display_name": "Python 3",
   "language": "python",
   "name": "python3"
  },
  "language_info": {
   "codemirror_mode": {
    "name": "ipython",
    "version": 3
   },
   "file_extension": ".py",
   "mimetype": "text/x-python",
   "name": "python",
   "nbconvert_exporter": "python",
   "pygments_lexer": "ipython3",
   "version": "3.6.5"
  }
 },
 "nbformat": 4,
 "nbformat_minor": 2
}
